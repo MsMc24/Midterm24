{
  "nbformat": 4,
  "nbformat_minor": 0,
  "metadata": {
    "colab": {
      "provenance": [],
      "authorship_tag": "ABX9TyOXUytNvQkC8UmVdR6Jk6Pw",
      "include_colab_link": true
    },
    "kernelspec": {
      "name": "python3",
      "display_name": "Python 3"
    },
    "language_info": {
      "name": "python"
    }
  },
  "cells": [
    {
      "cell_type": "markdown",
      "metadata": {
        "id": "view-in-github",
        "colab_type": "text"
      },
      "source": [
        "<a href=\"https://colab.research.google.com/github/MsMc24/Midterm24/blob/main/202258102.ipynb\" target=\"_parent\"><img src=\"https://colab.research.google.com/assets/colab-badge.svg\" alt=\"Open In Colab\"/></a>"
      ]
    },
    {
      "cell_type": "markdown",
      "source": [
        "# 🌀Midterm 2024: Megan Christina McIntosh (202258102)\n",
        "\n",
        "## Variable Question"
      ],
      "metadata": {
        "id": "AMWObzfW1RDn"
      }
    },
    {
      "cell_type": "code",
      "source": [
        "# Variable question"
      ],
      "metadata": {
        "id": "53tRSQXM3YMS"
      },
      "execution_count": null,
      "outputs": []
    },
    {
      "cell_type": "code",
      "source": [
        "# 'Mary, 1998, Ohio; and John, 1999, Boston.'\n",
        "name = input (\"What is your name? \")\n",
        "hometown = input (\"Where are you from? \")\n",
        "year = input (\"When were you born? \")\n",
        "print(f\"my name is {name}\")\n",
        "print(f\"I am from {hometown}\")\n",
        "print(f)\"I was born in {year}\")"
      ],
      "metadata": {
        "colab": {
          "base_uri": "https://localhost:8080/"
        },
        "id": "XUzlPkjZvtz9",
        "outputId": "70aaf7ef-dac0-49bd-eb37-7cbf933559b3"
      },
      "execution_count": 14,
      "outputs": [
        {
          "output_type": "stream",
          "name": "stdout",
          "text": [
            "What is your name? Mary\n",
            "Where are you from? britain\n",
            "When were you born? 1999\n",
            "my name is Mary\n"
          ]
        }
      ]
    },
    {
      "cell_type": "markdown",
      "source": [
        "## Index Question"
      ],
      "metadata": {
        "id": "d4qyWr6R1Jin"
      }
    },
    {
      "cell_type": "code",
      "source": [
        "# Dropdown\n",
        "\n",
        "cardinal_number = \"2\" #@param = [\"1\",\"2\",\"3\",\"4\"]\n",
        "\n",
        "# Add one line of code below\n",
        "cardinal_number = int(cardinal_number)\n",
        "\n",
        "# Ordinal expression as a list\n",
        "\n",
        "words = [\"First\", \"Second\", \"Third\",\"Fourth\"]\n",
        "\n",
        "print(\"The ordinal expression:\", words[cardinal_number-1])"
      ],
      "metadata": {
        "colab": {
          "base_uri": "https://localhost:8080/"
        },
        "id": "uGCj3LVD1OPo",
        "outputId": "3a070f82-332a-4de1-c5cf-895330ccf7e1"
      },
      "execution_count": 17,
      "outputs": [
        {
          "output_type": "stream",
          "name": "stdout",
          "text": [
            "The ordinal expression: Second\n"
          ]
        }
      ]
    },
    {
      "cell_type": "markdown",
      "source": [
        "## Name Question"
      ],
      "metadata": {
        "id": "NPjiZShP3LMT"
      }
    },
    {
      "cell_type": "code",
      "source": [
        "# Name Question\n",
        "x = my_name_is\n",
        "y = Megan\n",
        "print(x)\n",
        "\n",
        "\n"
      ],
      "metadata": {
        "colab": {
          "base_uri": "https://localhost:8080/",
          "height": 216
        },
        "id": "wJ4RoScc3N3Y",
        "outputId": "091c3172-b029-485a-aa6c-ee5fa8ad1c3d"
      },
      "execution_count": 36,
      "outputs": [
        {
          "output_type": "error",
          "ename": "NameError",
          "evalue": "name 'my_name_is' is not defined",
          "traceback": [
            "\u001b[0;31m---------------------------------------------------------------------------\u001b[0m",
            "\u001b[0;31mNameError\u001b[0m                                 Traceback (most recent call last)",
            "\u001b[0;32m<ipython-input-36-e184c32a16d0>\u001b[0m in \u001b[0;36m<cell line: 2>\u001b[0;34m()\u001b[0m\n\u001b[1;32m      1\u001b[0m \u001b[0;31m# Name Question\u001b[0m\u001b[0;34m\u001b[0m\u001b[0;34m\u001b[0m\u001b[0m\n\u001b[0;32m----> 2\u001b[0;31m \u001b[0mx\u001b[0m \u001b[0;34m=\u001b[0m \u001b[0mmy_name_is\u001b[0m\u001b[0;34m\u001b[0m\u001b[0;34m\u001b[0m\u001b[0m\n\u001b[0m\u001b[1;32m      3\u001b[0m \u001b[0my\u001b[0m \u001b[0;34m=\u001b[0m \u001b[0mMegan\u001b[0m\u001b[0;34m\u001b[0m\u001b[0;34m\u001b[0m\u001b[0m\n\u001b[1;32m      4\u001b[0m \u001b[0mprint\u001b[0m\u001b[0;34m(\u001b[0m\u001b[0mx\u001b[0m\u001b[0;34m)\u001b[0m\u001b[0;34m\u001b[0m\u001b[0;34m\u001b[0m\u001b[0m\n\u001b[1;32m      5\u001b[0m \u001b[0;34m\u001b[0m\u001b[0m\n",
            "\u001b[0;31mNameError\u001b[0m: name 'my_name_is' is not defined"
          ]
        }
      ]
    },
    {
      "cell_type": "markdown",
      "source": [
        "## Dictionary Question"
      ],
      "metadata": {
        "id": "osqXp2mQ5xg7"
      }
    },
    {
      "cell_type": "code",
      "source": [
        "my_list = {Sarah: 'A', Tony: 'B', Megan: 'F'}\n",
        "print(grades)"
      ],
      "metadata": {
        "colab": {
          "base_uri": "https://localhost:8080/",
          "height": 162
        },
        "id": "qufJaEjB500p",
        "outputId": "28bc1ea8-87e8-41c6-8035-58a00a04b557"
      },
      "execution_count": 45,
      "outputs": [
        {
          "output_type": "error",
          "ename": "NameError",
          "evalue": "name 'Sarah' is not defined",
          "traceback": [
            "\u001b[0;31m---------------------------------------------------------------------------\u001b[0m",
            "\u001b[0;31mNameError\u001b[0m                                 Traceback (most recent call last)",
            "\u001b[0;32m<ipython-input-45-378fef2db1ee>\u001b[0m in \u001b[0;36m<cell line: 1>\u001b[0;34m()\u001b[0m\n\u001b[0;32m----> 1\u001b[0;31m \u001b[0mmy_list\u001b[0m \u001b[0;34m=\u001b[0m \u001b[0;34m{\u001b[0m\u001b[0mSarah\u001b[0m\u001b[0;34m:\u001b[0m \u001b[0;34m'A'\u001b[0m\u001b[0;34m,\u001b[0m \u001b[0mTony\u001b[0m\u001b[0;34m:\u001b[0m \u001b[0;34m'B'\u001b[0m\u001b[0;34m,\u001b[0m \u001b[0mMegan\u001b[0m\u001b[0;34m:\u001b[0m \u001b[0;34m'F'\u001b[0m\u001b[0;34m}\u001b[0m\u001b[0;34m\u001b[0m\u001b[0;34m\u001b[0m\u001b[0m\n\u001b[0m\u001b[1;32m      2\u001b[0m \u001b[0mprint\u001b[0m\u001b[0;34m(\u001b[0m\u001b[0mgrades\u001b[0m\u001b[0;34m)\u001b[0m\u001b[0;34m\u001b[0m\u001b[0;34m\u001b[0m\u001b[0m\n",
            "\u001b[0;31mNameError\u001b[0m: name 'Sarah' is not defined"
          ]
        }
      ]
    },
    {
      "cell_type": "markdown",
      "source": [
        "## GTTS Question"
      ],
      "metadata": {
        "id": "ePtslOCS7B0V"
      }
    },
    {
      "cell_type": "code",
      "source": [
        "# First, install the gTTS library if you haven't already\n",
        "!pip install gTTS\n",
        "\n",
        "# Import the gTTS library\n",
        "from gtts import gTTS\n",
        "\n",
        "# Import IPython display module\n",
        "from IPython.display import Audio, display"
      ],
      "metadata": {
        "colab": {
          "base_uri": "https://localhost:8080/"
        },
        "id": "mNo2VXDJ7VCA",
        "outputId": "09edf3c8-3cda-419b-ceb0-16f08f3ae230"
      },
      "execution_count": 39,
      "outputs": [
        {
          "output_type": "stream",
          "name": "stdout",
          "text": [
            "Collecting gTTS\n",
            "  Downloading gTTS-2.5.1-py3-none-any.whl (29 kB)\n",
            "Requirement already satisfied: requests<3,>=2.27 in /usr/local/lib/python3.10/dist-packages (from gTTS) (2.31.0)\n",
            "Requirement already satisfied: click<8.2,>=7.1 in /usr/local/lib/python3.10/dist-packages (from gTTS) (8.1.7)\n",
            "Requirement already satisfied: charset-normalizer<4,>=2 in /usr/local/lib/python3.10/dist-packages (from requests<3,>=2.27->gTTS) (3.3.2)\n",
            "Requirement already satisfied: idna<4,>=2.5 in /usr/local/lib/python3.10/dist-packages (from requests<3,>=2.27->gTTS) (3.7)\n",
            "Requirement already satisfied: urllib3<3,>=1.21.1 in /usr/local/lib/python3.10/dist-packages (from requests<3,>=2.27->gTTS) (2.0.7)\n",
            "Requirement already satisfied: certifi>=2017.4.17 in /usr/local/lib/python3.10/dist-packages (from requests<3,>=2.27->gTTS) (2024.2.2)\n",
            "Installing collected packages: gTTS\n",
            "Successfully installed gTTS-2.5.1\n"
          ]
        }
      ]
    },
    {
      "cell_type": "code",
      "source": [
        "# Text to be converted to speech\n",
        "input = {\"Type here \"}\n",
        "\n",
        "# Language in which you want to convert\n",
        "language = 'en'\n",
        "\n",
        "# Pass the text and language to the gTTS module\n",
        "speech = gTTS(text = text, lang = language, slow = False)\n",
        "\n",
        "# Save the converted audio file\n",
        "speech.save(\"output.mp3\")\n",
        "\n",
        "# Display the audio directly in the notebook\n",
        "display(Audio(\"output.mp3\", autoplay=True))"
      ],
      "metadata": {
        "colab": {
          "base_uri": "https://localhost:8080/",
          "height": 75
        },
        "id": "6ze65GT67bNi",
        "outputId": "eca0f057-7029-4683-8798-7d7acc479fba"
      },
      "execution_count": 44,
      "outputs": [
        {
          "output_type": "display_data",
          "data": {
            "text/plain": [
              "<IPython.lib.display.Audio object>"
            ],
            "text/html": [
              "\n",
              "                <audio  controls=\"controls\" autoplay=\"autoplay\">\n",
              "                    <source src=\"data:audio/mpeg;base64,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\" type=\"audio/mpeg\" />\n",
              "                    Your browser does not support the audio element.\n",
              "                </audio>\n",
              "              "
            ]
          },
          "metadata": {}
        }
      ]
    },
    {
      "cell_type": "markdown",
      "source": [],
      "metadata": {
        "id": "cLOebZlE76Nt"
      }
    }
  ]
}