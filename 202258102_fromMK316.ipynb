{
  "nbformat": 4,
  "nbformat_minor": 0,
  "metadata": {
    "colab": {
      "provenance": [],
      "include_colab_link": true
    },
    "kernelspec": {
      "name": "python3",
      "display_name": "Python 3"
    },
    "language_info": {
      "name": "python"
    }
  },
  "cells": [
    {
      "cell_type": "markdown",
      "metadata": {
        "id": "view-in-github",
        "colab_type": "text"
      },
      "source": [
        "<a href=\"https://colab.research.google.com/github/MsMc24/Midterm24/blob/main/202258102_fromMK316.ipynb\" target=\"_parent\"><img src=\"https://colab.research.google.com/assets/colab-badge.svg\" alt=\"Open In Colab\"/></a>"
      ]
    },
    {
      "cell_type": "markdown",
      "source": [
        "# 🌀Midterm 2024: Megan Christina McIntosh (202258102)\n",
        "\n",
        "## Variable Question"
      ],
      "metadata": {
        "id": "AMWObzfW1RDn"
      }
    },
    {
      "cell_type": "code",
      "source": [
        "# Variable question"
      ],
      "metadata": {
        "id": "53tRSQXM3YMS"
      },
      "execution_count": null,
      "outputs": []
    },
    {
      "cell_type": "code",
      "source": [
        "# 'Mary, 1998, Ohio; and John, 1999, Boston.'\n",
        "name = input (\"What is your name? \")\n",
        "hometown = input (\"Where are you from? \")\n",
        "year = input (\"When were you born? \")\n",
        "print(f\"my name is {name}\")\n",
        "print(f\"I am from {hometown}\")\n",
        "print(f)\"I was born in {year}\")"
      ],
      "metadata": {
        "colab": {
          "base_uri": "https://localhost:8080/",
          "height": 111
        },
        "id": "XUzlPkjZvtz9",
        "outputId": "bc992fd7-5250-4dee-8729-a1aa0416ad63"
      },
      "execution_count": 1,
      "outputs": [
        {
          "output_type": "error",
          "ename": "SyntaxError",
          "evalue": "unmatched ')' (<ipython-input-1-12330639cfbe>, line 7)",
          "traceback": [
            "\u001b[0;36m  File \u001b[0;32m\"<ipython-input-1-12330639cfbe>\"\u001b[0;36m, line \u001b[0;32m7\u001b[0m\n\u001b[0;31m    print(f)\"I was born in {year}\")\u001b[0m\n\u001b[0m                                  ^\u001b[0m\n\u001b[0;31mSyntaxError\u001b[0m\u001b[0;31m:\u001b[0m unmatched ')'\n"
          ]
        }
      ]
    },
    {
      "cell_type": "markdown",
      "source": [
        "## 😊My comment\n",
        "\n",
        "=> There was an additional bracket ')' in your final print line"
      ],
      "metadata": {
        "id": "88iqC1ViI5Xb"
      }
    },
    {
      "cell_type": "code",
      "source": [
        "# 'Mary, 1998, Ohio; and John, 1999, Boston.'\n",
        "name = input (\"What is your name? \")\n",
        "hometown = input (\"Where are you from? \")\n",
        "year = input (\"When were you born? \")\n",
        "print(f\"my name is {name}\")\n",
        "print(f\"I am from {hometown}\")\n",
        "print(f\"I was born in {year}\")   # Fixed your error here."
      ],
      "metadata": {
        "id": "4YqyphXtI48F",
        "outputId": "8500c65a-21a8-4346-df97-b200c8fc25c3",
        "colab": {
          "base_uri": "https://localhost:8080/"
        }
      },
      "execution_count": 2,
      "outputs": [
        {
          "output_type": "stream",
          "name": "stdout",
          "text": [
            "What is your name? Miran\n",
            "Where are you from? Seoul\n",
            "When were you born? 1990s\n",
            "my name is Miran\n",
            "I am from Seoul\n",
            "I was born in 1990s\n"
          ]
        }
      ]
    },
    {
      "cell_type": "markdown",
      "source": [
        "## Index Question"
      ],
      "metadata": {
        "id": "d4qyWr6R1Jin"
      }
    },
    {
      "cell_type": "code",
      "source": [
        "# Dropdown\n",
        "\n",
        "cardinal_number = \"2\" #@param = [\"1\",\"2\",\"3\",\"4\"]\n",
        "\n",
        "# Add one line of code below\n",
        "cardinal_number = int(cardinal_number)\n",
        "\n",
        "# Ordinal expression as a list\n",
        "\n",
        "words = [\"First\", \"Second\", \"Third\",\"Fourth\"]\n",
        "\n",
        "print(\"The ordinal expression:\", words[cardinal_number-1])"
      ],
      "metadata": {
        "colab": {
          "base_uri": "https://localhost:8080/"
        },
        "id": "uGCj3LVD1OPo",
        "outputId": "9e3ebc18-9e64-435b-82bc-892baf2fcf52"
      },
      "execution_count": 3,
      "outputs": [
        {
          "output_type": "stream",
          "name": "stdout",
          "text": [
            "The ordinal expression: Second\n"
          ]
        }
      ]
    },
    {
      "cell_type": "markdown",
      "source": [
        "## Name Question"
      ],
      "metadata": {
        "id": "NPjiZShP3LMT"
      }
    },
    {
      "cell_type": "code",
      "source": [
        "# Name Question\n",
        "x = my_name_is\n",
        "y = Megan\n",
        "print(x)\n",
        "\n",
        "\n"
      ],
      "metadata": {
        "colab": {
          "base_uri": "https://localhost:8080/",
          "height": 222
        },
        "id": "wJ4RoScc3N3Y",
        "outputId": "fb52b19b-3540-43dd-936b-e61ffc83fe8f"
      },
      "execution_count": 4,
      "outputs": [
        {
          "output_type": "error",
          "ename": "NameError",
          "evalue": "name 'my_name_is' is not defined",
          "traceback": [
            "\u001b[0;31m---------------------------------------------------------------------------\u001b[0m",
            "\u001b[0;31mNameError\u001b[0m                                 Traceback (most recent call last)",
            "\u001b[0;32m<ipython-input-4-e184c32a16d0>\u001b[0m in \u001b[0;36m<cell line: 2>\u001b[0;34m()\u001b[0m\n\u001b[1;32m      1\u001b[0m \u001b[0;31m# Name Question\u001b[0m\u001b[0;34m\u001b[0m\u001b[0;34m\u001b[0m\u001b[0m\n\u001b[0;32m----> 2\u001b[0;31m \u001b[0mx\u001b[0m \u001b[0;34m=\u001b[0m \u001b[0mmy_name_is\u001b[0m\u001b[0;34m\u001b[0m\u001b[0;34m\u001b[0m\u001b[0m\n\u001b[0m\u001b[1;32m      3\u001b[0m \u001b[0my\u001b[0m \u001b[0;34m=\u001b[0m \u001b[0mMegan\u001b[0m\u001b[0;34m\u001b[0m\u001b[0;34m\u001b[0m\u001b[0m\n\u001b[1;32m      4\u001b[0m \u001b[0mprint\u001b[0m\u001b[0;34m(\u001b[0m\u001b[0mx\u001b[0m\u001b[0;34m)\u001b[0m\u001b[0;34m\u001b[0m\u001b[0;34m\u001b[0m\u001b[0m\n\u001b[1;32m      5\u001b[0m \u001b[0;34m\u001b[0m\u001b[0m\n",
            "\u001b[0;31mNameError\u001b[0m: name 'my_name_is' is not defined"
          ]
        }
      ]
    },
    {
      "cell_type": "markdown",
      "source": [
        "## 😊My comment\n",
        "\n",
        "=> There was an additional bracket ')' in your final print line"
      ],
      "metadata": {
        "id": "t8vs7pksJXaU"
      }
    },
    {
      "cell_type": "code",
      "source": [
        "# Name Question\n",
        "x = \"My name is\"   # String should be embbeded in \"\"\n",
        "y = \"Megan.\"\n",
        "print(x, y)\n"
      ],
      "metadata": {
        "id": "Rl7MOyehJYWp",
        "outputId": "2fb7cf16-ccf3-4b46-ef6d-388ae458a684",
        "colab": {
          "base_uri": "https://localhost:8080/"
        }
      },
      "execution_count": 7,
      "outputs": [
        {
          "output_type": "stream",
          "name": "stdout",
          "text": [
            "My name is Megan.\n"
          ]
        }
      ]
    },
    {
      "cell_type": "markdown",
      "source": [
        "## Dictionary Question"
      ],
      "metadata": {
        "id": "osqXp2mQ5xg7"
      }
    },
    {
      "cell_type": "code",
      "source": [
        "my_list = {Sarah: 'A', Tony: 'B', Megan: 'F'}\n",
        "print(grades)"
      ],
      "metadata": {
        "colab": {
          "base_uri": "https://localhost:8080/",
          "height": 162
        },
        "id": "qufJaEjB500p",
        "outputId": "28bc1ea8-87e8-41c6-8035-58a00a04b557"
      },
      "execution_count": null,
      "outputs": [
        {
          "output_type": "error",
          "ename": "NameError",
          "evalue": "name 'Sarah' is not defined",
          "traceback": [
            "\u001b[0;31m---------------------------------------------------------------------------\u001b[0m",
            "\u001b[0;31mNameError\u001b[0m                                 Traceback (most recent call last)",
            "\u001b[0;32m<ipython-input-45-378fef2db1ee>\u001b[0m in \u001b[0;36m<cell line: 1>\u001b[0;34m()\u001b[0m\n\u001b[0;32m----> 1\u001b[0;31m \u001b[0mmy_list\u001b[0m \u001b[0;34m=\u001b[0m \u001b[0;34m{\u001b[0m\u001b[0mSarah\u001b[0m\u001b[0;34m:\u001b[0m \u001b[0;34m'A'\u001b[0m\u001b[0;34m,\u001b[0m \u001b[0mTony\u001b[0m\u001b[0;34m:\u001b[0m \u001b[0;34m'B'\u001b[0m\u001b[0;34m,\u001b[0m \u001b[0mMegan\u001b[0m\u001b[0;34m:\u001b[0m \u001b[0;34m'F'\u001b[0m\u001b[0;34m}\u001b[0m\u001b[0;34m\u001b[0m\u001b[0;34m\u001b[0m\u001b[0m\n\u001b[0m\u001b[1;32m      2\u001b[0m \u001b[0mprint\u001b[0m\u001b[0;34m(\u001b[0m\u001b[0mgrades\u001b[0m\u001b[0;34m)\u001b[0m\u001b[0;34m\u001b[0m\u001b[0;34m\u001b[0m\u001b[0m\n",
            "\u001b[0;31mNameError\u001b[0m: name 'Sarah' is not defined"
          ]
        }
      ]
    },
    {
      "cell_type": "markdown",
      "source": [],
      "metadata": {
        "id": "XCcBbk-oJxlH"
      }
    },
    {
      "cell_type": "markdown",
      "source": [
        "## 😊My comment\n",
        "\n",
        "=> Understand how to define string: use \"\""
      ],
      "metadata": {
        "id": "9clI1p4LJxrH"
      }
    },
    {
      "cell_type": "code",
      "source": [
        "my_list = {\"Sarah\": 'A', \"Tony\": 'B', \"Megan\": 'F'}\n",
        "print(my_list[\"Megan\"])"
      ],
      "metadata": {
        "id": "gICTGwD-J4aR",
        "outputId": "65a26831-d024-4b0a-a5ef-4c8a3f5969db",
        "colab": {
          "base_uri": "https://localhost:8080/"
        }
      },
      "execution_count": 8,
      "outputs": [
        {
          "output_type": "stream",
          "name": "stdout",
          "text": [
            "F\n"
          ]
        }
      ]
    },
    {
      "cell_type": "markdown",
      "source": [
        "## GTTS Question"
      ],
      "metadata": {
        "id": "ePtslOCS7B0V"
      }
    },
    {
      "cell_type": "code",
      "source": [
        "# First, install the gTTS library if you haven't already\n",
        "!pip install gTTS\n",
        "\n",
        "# Import the gTTS library\n",
        "from gtts import gTTS\n",
        "\n",
        "# Import IPython display module\n",
        "from IPython.display import Audio, display"
      ],
      "metadata": {
        "colab": {
          "base_uri": "https://localhost:8080/"
        },
        "id": "mNo2VXDJ7VCA",
        "outputId": "02fae5f5-cd87-41c7-9f80-8d7a17496834"
      },
      "execution_count": 1,
      "outputs": [
        {
          "output_type": "stream",
          "name": "stdout",
          "text": [
            "Requirement already satisfied: gTTS in /usr/local/lib/python3.10/dist-packages (2.5.1)\n",
            "Requirement already satisfied: requests<3,>=2.27 in /usr/local/lib/python3.10/dist-packages (from gTTS) (2.31.0)\n",
            "Requirement already satisfied: click<8.2,>=7.1 in /usr/local/lib/python3.10/dist-packages (from gTTS) (8.1.7)\n",
            "Requirement already satisfied: charset-normalizer<4,>=2 in /usr/local/lib/python3.10/dist-packages (from requests<3,>=2.27->gTTS) (3.3.2)\n",
            "Requirement already satisfied: idna<4,>=2.5 in /usr/local/lib/python3.10/dist-packages (from requests<3,>=2.27->gTTS) (3.7)\n",
            "Requirement already satisfied: urllib3<3,>=1.21.1 in /usr/local/lib/python3.10/dist-packages (from requests<3,>=2.27->gTTS) (2.0.7)\n",
            "Requirement already satisfied: certifi>=2017.4.17 in /usr/local/lib/python3.10/dist-packages (from requests<3,>=2.27->gTTS) (2024.2.2)\n"
          ]
        }
      ]
    },
    {
      "cell_type": "markdown",
      "source": [
        "Do not run the code below:\n",
        "\n",
        "This is because you're redefining input function as something else (in your first code line). See my comment below"
      ],
      "metadata": {
        "id": "nm8mNXceLbP2"
      }
    },
    {
      "cell_type": "code",
      "source": [
        "# Text to be converted to speech\n",
        "input = {\"Type here \"}          # <= input(), not curly braces. This is for dictionary data type\n",
        "\n",
        "# Language in which you want to convert\n",
        "language = 'en'\n",
        "\n",
        "# Pass the text and language to the gTTS module\n",
        "speech = gTTS(text = text, lang = language, slow = False)\n",
        "\n",
        "# Save the converted audio file\n",
        "speech.save(\"output.mp3\")\n",
        "\n",
        "# Display the audio directly in the notebook\n",
        "display(Audio(\"output.mp3\", autoplay=True))"
      ],
      "metadata": {
        "colab": {
          "base_uri": "https://localhost:8080/",
          "height": 222
        },
        "id": "6ze65GT67bNi",
        "outputId": "3994ac7a-c2f4-4cb9-ced4-9c5595534d6e"
      },
      "execution_count": 10,
      "outputs": [
        {
          "output_type": "error",
          "ename": "NameError",
          "evalue": "name 'text' is not defined",
          "traceback": [
            "\u001b[0;31m---------------------------------------------------------------------------\u001b[0m",
            "\u001b[0;31mNameError\u001b[0m                                 Traceback (most recent call last)",
            "\u001b[0;32m<ipython-input-10-e1777605f932>\u001b[0m in \u001b[0;36m<cell line: 8>\u001b[0;34m()\u001b[0m\n\u001b[1;32m      6\u001b[0m \u001b[0;34m\u001b[0m\u001b[0m\n\u001b[1;32m      7\u001b[0m \u001b[0;31m# Pass the text and language to the gTTS module\u001b[0m\u001b[0;34m\u001b[0m\u001b[0;34m\u001b[0m\u001b[0m\n\u001b[0;32m----> 8\u001b[0;31m \u001b[0mspeech\u001b[0m \u001b[0;34m=\u001b[0m \u001b[0mgTTS\u001b[0m\u001b[0;34m(\u001b[0m\u001b[0mtext\u001b[0m \u001b[0;34m=\u001b[0m \u001b[0mtext\u001b[0m\u001b[0;34m,\u001b[0m \u001b[0mlang\u001b[0m \u001b[0;34m=\u001b[0m \u001b[0mlanguage\u001b[0m\u001b[0;34m,\u001b[0m \u001b[0mslow\u001b[0m \u001b[0;34m=\u001b[0m \u001b[0;32mFalse\u001b[0m\u001b[0;34m)\u001b[0m\u001b[0;34m\u001b[0m\u001b[0;34m\u001b[0m\u001b[0m\n\u001b[0m\u001b[1;32m      9\u001b[0m \u001b[0;34m\u001b[0m\u001b[0m\n\u001b[1;32m     10\u001b[0m \u001b[0;31m# Save the converted audio file\u001b[0m\u001b[0;34m\u001b[0m\u001b[0;34m\u001b[0m\u001b[0m\n",
            "\u001b[0;31mNameError\u001b[0m: name 'text' is not defined"
          ]
        }
      ]
    },
    {
      "cell_type": "markdown",
      "source": [
        "## 😊My comment\n",
        "\n",
        "=> Understand how to define string: use \"\""
      ],
      "metadata": {
        "id": "ZLqxDAGBKH9H"
      }
    },
    {
      "cell_type": "code",
      "source": [],
      "metadata": {
        "id": "CarN7GHlK7FR"
      },
      "execution_count": null,
      "outputs": []
    },
    {
      "cell_type": "code",
      "source": [
        "# Text to be converted to speech\n",
        "text = input(\"Enter the text you want to convert to speech: \")\n",
        "\n",
        "# Language in which you want to convert\n",
        "language = 'en'\n",
        "\n",
        "# Pass the text and language to the gTTS module\n",
        "speech = gTTS(text=text, lang=language, slow=False)\n",
        "\n",
        "# Save the converted audio file\n",
        "speech.save(\"output.mp3\")\n",
        "\n",
        "# Display the audio directly in the notebook\n",
        "display(Audio(\"output.mp3\", autoplay=True))"
      ],
      "metadata": {
        "id": "59VL4BJ6KKtI",
        "outputId": "330e665c-99ad-4599-efc1-71192f1e49c9",
        "colab": {
          "base_uri": "https://localhost:8080/",
          "height": 92
        }
      },
      "execution_count": 2,
      "outputs": [
        {
          "name": "stdout",
          "output_type": "stream",
          "text": [
            "Enter the text you want to convert to speech: Now the code runs well.\n"
          ]
        },
        {
          "output_type": "display_data",
          "data": {
            "text/plain": [
              "<IPython.lib.display.Audio object>"
            ],
            "text/html": [
              "\n",
              "                <audio  controls=\"controls\" autoplay=\"autoplay\">\n",
              "                    <source src=\"data:audio/mpeg;base64,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\" type=\"audio/mpeg\" />\n",
              "                    Your browser does not support the audio element.\n",
              "                </audio>\n",
              "              "
            ]
          },
          "metadata": {}
        }
      ]
    },
    {
      "cell_type": "markdown",
      "source": [
        "---\n",
        "The End. Good job! 😍😍"
      ],
      "metadata": {
        "id": "NsoPh3RWLtl_"
      }
    }
  ]
}